{
  "nbformat": 4,
  "nbformat_minor": 0,
  "metadata": {
    "colab": {
      "name": "Typecasting_python.ipynb",
      "provenance": [],
      "include_colab_link": true
    },
    "kernelspec": {
      "name": "python3",
      "display_name": "Python 3"
    },
    "language_info": {
      "name": "python"
    }
  },
  "cells": [
    {
      "cell_type": "markdown",
      "metadata": {
        "id": "view-in-github",
        "colab_type": "text"
      },
      "source": [
        "<a href=\"https://colab.research.google.com/github/Olow304/complete-python-programming/blob/main/typeCasting/Typecasting_python.ipynb\" target=\"_parent\"><img src=\"https://colab.research.google.com/assets/colab-badge.svg\" alt=\"Open In Colab\"/></a>"
      ]
    },
    {
      "cell_type": "code",
      "metadata": {
        "colab": {
          "base_uri": "https://localhost:8080/"
        },
        "id": "6-IAj81KgkvF",
        "outputId": "15ac7add-4da1-4758-dab1-38963de56edb"
      },
      "source": [
        "'''\n",
        "Hello and welcome back to this tutorial.In this lesson, we are going to learn about the important typecasting concept in Python Programming Language.\n",
        "Typecasting refers to a technique used to modify the values (or variables) declared in a given datatype into a different datatype. In the Python Programming\n",
        "Language, this is attained by using what is known as inbuilt constructor functions.Inbuilt means that you do not need to program. It is already programmed for you.\n",
        "The functions are int(), string(), float(). There are numerous functions. However, for brevity's sake, we will stick to these 3 methods.\n",
        "There is implicit and explicit typecasting. We will focus on the latter as implicit typecasting happens by default when you program.\n",
        "'''\n",
        "\n",
        "'''we will begin by concurrently learning both the the int() and float typecasting method\n",
        "Let's begin by defining a float datatype variable and convert that into an int type.\n",
        "'''\n",
        "\n",
        "x = 1.5\n",
        "#print x to ascertain that x variable was assigned to 1.5\n",
        "print(x)\n",
        "#Now, let's check the datatype of x, using a combination of the str() and type() function. The str() as shall be described later, changes our value to a string value.\n",
        "print(\"The datatype of x is \" + str(type(x)))\n",
        "#Now, let's change x (which as can be evinced from the print function) above is float to int type. In order to do this, we have to invoke the int() method\n",
        "\n",
        "y = int(x)\n",
        "print(y)\n",
        "#By printing you notice that the initial 1.5 stored as x variable is now 1. This is because 1.5 is float while 1 is int.\n",
        "print(\"The datatype of y is \" + str(type(y)))\n",
        "\n",
        "'''Utilizing the float() method, you can change a defined value into float. In this scenario, we define a value as an integer and then change that to a float type '''\n",
        "a = 20\n",
        "\n",
        "print(a)\n",
        "print(\"The datatype of a is \" + str(type(a)))\n",
        "#as shown in the above print function, a is of the int class. Now we will convert that to float type and store that in a new variable\n",
        "b = float(a)\n",
        "print(b)\n",
        "print(\"The datatype of b is \" + str(type(b)))\n",
        "\n",
        "'''utilizing the float b value that is defined above, we hereby indicate that this value type can be changed to string type using the str() and store that in a variable called c\n",
        "and later on print c to check for its type'''\n",
        "c = str(b)\n",
        "print(c)\n",
        "print(\"The datatype of c is \" + str(type(c)))\n",
        "\n",
        "'''The same holds true for any other inter-method conversion. This means that using these functions, you can change from string type to integer type to float type & vice versa. \n",
        "That is the end for today's class on typecasting. We will meet in the next class'''\n",
        "\n"
      ],
      "execution_count": null,
      "outputs": [
        {
          "output_type": "stream",
          "text": [
            "1.5\n",
            "The datatype of x is <class 'float'>\n",
            "1\n",
            "The datatype of y is <class 'int'>\n",
            "20\n",
            "The datatype of a is <class 'int'>\n",
            "20.0\n",
            "The datatype of b is <class 'float'>\n",
            "20.0\n",
            "The datatype of c is <class 'str'>\n"
          ],
          "name": "stdout"
        }
      ]
    }
  ]
}